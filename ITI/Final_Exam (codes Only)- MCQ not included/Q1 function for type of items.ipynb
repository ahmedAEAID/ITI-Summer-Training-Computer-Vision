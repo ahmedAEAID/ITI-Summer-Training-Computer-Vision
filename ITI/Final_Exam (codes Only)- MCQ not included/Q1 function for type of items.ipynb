{
 "cells": [
  {
   "cell_type": "code",
   "execution_count": 1,
   "id": "f356d61d",
   "metadata": {},
   "outputs": [
    {
     "data": {
      "text/plain": [
       "{\"<class 'int'>\": [1, 7],\n",
       " \"<class 'float'>\": [1.3, 4.4],\n",
       " \"<class 'str'>\": ['hi', '45'],\n",
       " \"<class 'list'>\": [[0, 1]]}"
      ]
     },
     "execution_count": 1,
     "metadata": {},
     "output_type": "execute_result"
    }
   ],
   "source": [
    "def type_items(lis):\n",
    "    dic= dict()\n",
    "    for i in lis :\n",
    "        \n",
    "        \n",
    "        if str(type(i)) in dic.keys():\n",
    "            \n",
    "            dic[str(type(i))].append(i)\n",
    "           \n",
    "        else:\n",
    "            dic[str(type(i))] = [i]\n",
    "            \n",
    "    return dic\n",
    "type_items([1,1.3,7,4.4,'hi',[0,1],'45'])\n",
    "            \n",
    "        \n",
    "        "
   ]
  }
 ],
 "metadata": {
  "kernelspec": {
   "display_name": "Python 3 (ipykernel)",
   "language": "python",
   "name": "python3"
  },
  "language_info": {
   "codemirror_mode": {
    "name": "ipython",
    "version": 3
   },
   "file_extension": ".py",
   "mimetype": "text/x-python",
   "name": "python",
   "nbconvert_exporter": "python",
   "pygments_lexer": "ipython3",
   "version": "3.9.12"
  }
 },
 "nbformat": 4,
 "nbformat_minor": 5
}
