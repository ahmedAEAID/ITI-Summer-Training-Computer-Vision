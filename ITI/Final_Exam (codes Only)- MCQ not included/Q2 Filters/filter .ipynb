{
 "cells": [
  {
   "cell_type": "code",
   "execution_count": 1,
   "id": "c032ba9f",
   "metadata": {},
   "outputs": [],
   "source": [
    "import numpy as np \n",
    "import cv2\n",
    "import matplotlib.pyplot as plt"
   ]
  },
  {
   "cell_type": "code",
   "execution_count": 3,
   "id": "80dd3ae7",
   "metadata": {},
   "outputs": [
    {
     "data": {
      "text/plain": [
       "True"
      ]
     },
     "execution_count": 3,
     "metadata": {},
     "output_type": "execute_result"
    }
   ],
   "source": [
    "img = cv2.imread('blur.png')\n",
    "\n",
    "kernel = np.array(\n",
    "    [\n",
    "        [0,-1,0],\n",
    "        [-1,5,-1],\n",
    "        [0,-1,0]\n",
    "    ]\n",
    "    ,dtype= np.float32\n",
    ")\n",
    "\n",
    "out = cv2.filter2D(img, -1, kernel,borderType= cv2.BORDER_ISOLATED )\n",
    "\n",
    "cv2.imshow('after filter',out)\n",
    "cv2.waitKey(0)\n",
    "cv2.destroyAllWindows()\n",
    "cv2.imwrite('afterFliter.png',out)"
   ]
  },
  {
   "cell_type": "code",
   "execution_count": null,
   "id": "63d669f5",
   "metadata": {},
   "outputs": [],
   "source": []
  }
 ],
 "metadata": {
  "kernelspec": {
   "display_name": "Python 3 (ipykernel)",
   "language": "python",
   "name": "python3"
  },
  "language_info": {
   "codemirror_mode": {
    "name": "ipython",
    "version": 3
   },
   "file_extension": ".py",
   "mimetype": "text/x-python",
   "name": "python",
   "nbconvert_exporter": "python",
   "pygments_lexer": "ipython3",
   "version": "3.9.12"
  }
 },
 "nbformat": 4,
 "nbformat_minor": 5
}
