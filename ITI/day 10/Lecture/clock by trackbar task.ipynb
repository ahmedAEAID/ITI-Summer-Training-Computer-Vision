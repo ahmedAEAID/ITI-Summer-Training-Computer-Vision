{
 "cells": [
  {
   "cell_type": "code",
   "execution_count": 2,
   "id": "ef19e61b",
   "metadata": {},
   "outputs": [],
   "source": [
    "import numpy as np \n",
    "import matplotlib.pyplot as plt\n",
    "import cv2\n",
    "import math"
   ]
  },
  {
   "cell_type": "code",
   "execution_count": null,
   "id": "1936e9a5",
   "metadata": {},
   "outputs": [],
   "source": [
    "\n",
    "img = np.zeros((500,500,3),np.uint8)\n",
    "\n",
    "\n",
    "def nothing(x):\n",
    "    pass\n",
    "\n",
    "cv2.namedWindow('image')\n",
    "cv2.createTrackbar('angle','image',0,360,nothing)\n",
    "cv2.createTrackbar('angle1','image',0,360,nothing)\n",
    "center = (250,250)\n",
    "r= 100\n",
    "th = 3\n",
    "length_hour_hand = r-40\n",
    "length_minute_hand = r-20\n",
    "while 1:\n",
    "    img [:,:] =0\n",
    "    cv2.circle(img,center,r,(255,0,0),th)\n",
    "    angle = cv2.getTrackbarPos('angle','image')\n",
    "    angle1 = cv2.getTrackbarPos('angle1','image')\n",
    "    x = int(center[0] + (length_hour_hand) * math.cos(math.radians(angle)))\n",
    "    y = int(center[1] + (length_hour_hand) * math.sin(math.radians(angle)))\n",
    "    x1 = int(center[0] + (length_minute_hand) * math.cos(math.radians(angle1)))\n",
    "    y1 = int(center[1] + (length_minute_hand) * math.sin(math.radians(angle1)))\n",
    "    \n",
    "    cv2.line(img,center,(x,y),(0,150,250),th)\n",
    "    cv2.line(img,center,(x1,y1),(200,210,),th)\n",
    "    \n",
    "    cv2.imshow('image',img[:,:,::-1])\n",
    "    k = cv2.waitKey(1)\n",
    "    if k == ord('q'):\n",
    "        break\n",
    "cv2.destroyAllWindows()"
   ]
  },
  {
   "cell_type": "code",
   "execution_count": null,
   "id": "d5e60ca8",
   "metadata": {},
   "outputs": [],
   "source": []
  },
  {
   "cell_type": "code",
   "execution_count": null,
   "id": "54264c2d",
   "metadata": {},
   "outputs": [],
   "source": []
  }
 ],
 "metadata": {
  "kernelspec": {
   "display_name": "Python 3 (ipykernel)",
   "language": "python",
   "name": "python3"
  },
  "language_info": {
   "codemirror_mode": {
    "name": "ipython",
    "version": 3
   },
   "file_extension": ".py",
   "mimetype": "text/x-python",
   "name": "python",
   "nbconvert_exporter": "python",
   "pygments_lexer": "ipython3",
   "version": "3.9.12"
  }
 },
 "nbformat": 4,
 "nbformat_minor": 5
}
