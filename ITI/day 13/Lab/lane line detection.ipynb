{
 "cells": [
  {
   "cell_type": "code",
   "execution_count": 1,
   "id": "362df7ae",
   "metadata": {},
   "outputs": [],
   "source": [
    "import numpy as np \n",
    "import matplotlib.pyplot as plt\n",
    "import cv2\n",
    "\n",
    "import warnings\n",
    "warnings.filterwarnings('ignore')"
   ]
  },
  {
   "cell_type": "code",
   "execution_count": 2,
   "id": "0bcc4fbf",
   "metadata": {},
   "outputs": [],
   "source": [
    "%run helpers.py"
   ]
  },
  {
   "cell_type": "code",
   "execution_count": 3,
   "id": "75b32e1b",
   "metadata": {},
   "outputs": [],
   "source": [
    "def nothing(x):\n",
    "    pass\n",
    "\n",
    "\n",
    "cv2.namedWindow('edges')\n",
    "\n",
    "cv2.createTrackbar('Threshold1','edges',0,1000,nothing)\n",
    "cv2.createTrackbar('Threshold2','edges',0,1000,nothing)\n",
    "\n",
    "img = cv2.imread('solidWhiteCurve.jpg')\n",
    "img2= cv2.imread('solidYellowCurve2.jpg')\n",
    "img_gray  = cv2.imread('solidWhiteCurve.jpg',0)\n",
    "img2_gray = cv2.imread('solidYellowCurve2.jpg',0)\n",
    "while True:\n",
    "    \n",
    "    image = img2\n",
    "    image_gray = img2_gray\n",
    "    Threshold1 = cv2.getTrackbarPos('Threshold1','edges')\n",
    "    Threshold2= cv2.getTrackbarPos('Threshold2','edges')\n",
    "    edges = cv2.Canny(image , Threshold1 , Threshold2)\n",
    "    cv2.imshow('edges',edges)\n",
    "    cv2.imshow('original',image)\n",
    "    k = cv2.waitKey(1)\n",
    "    if k == ord('q'):\n",
    "        break\n",
    "\n",
    "cv2.destroyAllWindows()\n",
    "\n",
    "\n",
    "#*************************\n",
    "# this bast parameter \n",
    "# threhold1 =80\n",
    "# threshold2 =200\n",
    "#************************"
   ]
  },
  {
   "cell_type": "code",
   "execution_count": 4,
   "id": "6eb2c30b",
   "metadata": {
    "scrolled": false
   },
   "outputs": [],
   "source": [
    "img = cv2.imread('solidWhiteCurve.jpg')\n",
    "img2= cv2.imread('solidYellowCurve2.jpg')\n",
    "img_gray  = cv2.imread('solidWhiteCurve.jpg',0)\n",
    "img2_gray = cv2.imread('solidYellowCurve2.jpg',0)\n",
    "\n",
    "cv2.namedWindow('final')\n",
    "cv2.createTrackbar('MIN_VOTES','final',1,30,nothing)\n",
    "cv2.createTrackbar('MIN_LINE_LEN','final',1,100,nothing)\n",
    "cv2.createTrackbar('MAX_LINE_GAP','final',1,100,nothing)\n",
    "while True:    \n",
    "    image = img2[:]\n",
    "    image_gray = img2_gray[:]\n",
    "    MIN_VOTES = cv2.getTrackbarPos('MIN_VOTES','final')\n",
    "    MIN_LINE_LEN = cv2.getTrackbarPos('MIN_LINE_LEN','final')\n",
    "    MAX_LINE_GAP = cv2.getTrackbarPos('MAX_LINE_GAP','final')\n",
    "    blur_gray= cv2.GaussianBlur(image_gray, (5, 5), 0)\n",
    "    \n",
    "    # from output Task 1\n",
    "    # this bast parameter \n",
    "    # threhold1 =80\n",
    "    # threshold2 =200\n",
    "    \n",
    "    edges = cv2.Canny(blur_gray , 80 , 200)\n",
    "    ROI_edges_img = helpers_masked_edges(edges)\n",
    "    lines = cv2.HoughLinesP(ROI_edges_img,1 , np.pi/180, MIN_VOTES, np.array([]), minLineLength=MIN_LINE_LEN, maxLineGap=MAX_LINE_GAP)\n",
    "\n",
    "    lanes = helpers_formulate_lanes(lines, ROI_edges_img)\n",
    "    lanes_image = helpers_draw_lines(lanes, ROI_edges_img)\n",
    "    final_image = cv2.addWeighted(image, 0.8, lanes_image, 1, 0)\n",
    "    cv2.imshow('final',final_image)\n",
    "    k = cv2.waitKey(1)\n",
    "    if k == ord('q'):\n",
    "        break\n",
    "cv2.destroyAllWindows()\n",
    "\n",
    "#***********************\n",
    "# this bast parameter \n",
    "    # threhold1 = 7\n",
    "    # MIN_LINE_LEN = 8\n",
    "    # MAX_LINE_GAP = 22\n",
    "#************************"
   ]
  },
  {
   "cell_type": "code",
   "execution_count": null,
   "id": "869c2422",
   "metadata": {},
   "outputs": [],
   "source": []
  },
  {
   "cell_type": "code",
   "execution_count": null,
   "id": "35f086cb",
   "metadata": {},
   "outputs": [],
   "source": []
  }
 ],
 "metadata": {
  "kernelspec": {
   "display_name": "Python 3 (ipykernel)",
   "language": "python",
   "name": "python3"
  },
  "language_info": {
   "codemirror_mode": {
    "name": "ipython",
    "version": 3
   },
   "file_extension": ".py",
   "mimetype": "text/x-python",
   "name": "python",
   "nbconvert_exporter": "python",
   "pygments_lexer": "ipython3",
   "version": "3.9.12"
  }
 },
 "nbformat": 4,
 "nbformat_minor": 5
}
