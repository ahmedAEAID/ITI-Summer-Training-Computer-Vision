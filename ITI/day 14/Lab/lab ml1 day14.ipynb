{
 "cells": [
  {
   "cell_type": "code",
   "execution_count": 1,
   "id": "79af07b5",
   "metadata": {},
   "outputs": [],
   "source": [
    "import numpy as np  \n",
    "from tensorflow.keras.layers  import Dense\n",
    "from tensorflow.keras.models import Sequential\n",
    "from tensorflow import keras\n",
    "import pandas as pd "
   ]
  },
  {
   "cell_type": "markdown",
   "id": "6ea2ce6c",
   "metadata": {},
   "source": [
    "z = 5x - 3y + 7\n",
    "\n",
    "Task: Given the previous equation: - Generate 10 random values for `x` and `y` as \n",
    "input with max. value = 100. \n",
    "Input shape should be (10,2) \n",
    "- Generate z for the above values.\n",
    "- Create a model with 2 inputs to accept x and y and predicts z. -\n",
    " You must show the results: Model Weights.\n",
    "-Criteria: - Model must be 1 neuron only. - Numbers must be with max 0.1 error."
   ]
  },
  {
   "cell_type": "code",
   "execution_count": 2,
   "id": "b9154051",
   "metadata": {},
   "outputs": [],
   "source": [
    "train = np.random.randint(0,100,(10,2))\n",
    "x = train[:,0]\n",
    "y = train[:,1]\n",
    "\n",
    "z= 5*x -3*y + 7\n"
   ]
  },
  {
   "cell_type": "code",
   "execution_count": 3,
   "id": "58583ab7",
   "metadata": {},
   "outputs": [
    {
     "name": "stdout",
     "output_type": "stream",
     "text": [
      "Model: \"sequential\"\n",
      "_________________________________________________________________\n",
      " Layer (type)                Output Shape              Param #   \n",
      "=================================================================\n",
      " dense (Dense)               (None, 1)                 3         \n",
      "                                                                 \n",
      "=================================================================\n",
      "Total params: 3\n",
      "Trainable params: 3\n",
      "Non-trainable params: 0\n",
      "_________________________________________________________________\n"
     ]
    }
   ],
   "source": [
    "model = Sequential()\n",
    "model.add(Dense(1,input_shape = [train.shape[1]]))\n",
    "model.summary()"
   ]
  },
  {
   "cell_type": "code",
   "execution_count": 4,
   "id": "8a97d24b",
   "metadata": {},
   "outputs": [],
   "source": [
    "model.compile(\n",
    "    optimizer='adam',\n",
    "    loss='mean_squared_error',\n",
    ")"
   ]
  },
  {
   "cell_type": "code",
   "execution_count": 5,
   "id": "4577ee87",
   "metadata": {},
   "outputs": [
    {
     "data": {
      "text/plain": [
       "(10,)"
      ]
     },
     "execution_count": 5,
     "metadata": {},
     "output_type": "execute_result"
    }
   ],
   "source": [
    "z.shape"
   ]
  },
  {
   "cell_type": "code",
   "execution_count": 6,
   "id": "b599ad8a",
   "metadata": {
    "scrolled": true
   },
   "outputs": [
    {
     "name": "stdout",
     "output_type": "stream",
     "text": [
      "24.78 sec \n"
     ]
    }
   ],
   "source": [
    "from time import time\n",
    "\n",
    "t = time()\n",
    "model.fit( train , z,epochs=15000, verbose=0)\n",
    "\n",
    "print(f'{round(time() -t,2 )} sec ')"
   ]
  },
  {
   "cell_type": "code",
   "execution_count": 7,
   "id": "fc471aa6",
   "metadata": {},
   "outputs": [
    {
     "data": {
      "text/plain": [
       "[array([[ 5.003216 ],\n",
       "        [-2.9976437]], dtype=float32),\n",
       " array([6.727104], dtype=float32)]"
      ]
     },
     "execution_count": 7,
     "metadata": {},
     "output_type": "execute_result"
    }
   ],
   "source": [
    "model.get_weights()"
   ]
  },
  {
   "cell_type": "code",
   "execution_count": 8,
   "id": "809dba84",
   "metadata": {},
   "outputs": [],
   "source": [
    "loss= pd.DataFrame(model.history.history)"
   ]
  },
  {
   "cell_type": "code",
   "execution_count": 9,
   "id": "3886fba5",
   "metadata": {
    "scrolled": true
   },
   "outputs": [
    {
     "data": {
      "text/plain": [
       "<AxesSubplot:>"
      ]
     },
     "execution_count": 9,
     "metadata": {},
     "output_type": "execute_result"
    },
    {
     "data": {
      "image/png": "[encoded data removed]",
      "text/plain": [
       "<Figure size 432x288 with 1 Axes>"
      ]
     },
     "metadata": {
      "needs_background": "light"
     },
     "output_type": "display_data"
    }
   ],
   "source": [
    "loss.plot()\n"
   ]
  },
  {
   "cell_type": "code",
   "execution_count": null,
   "id": "dcd8d3ca",
   "metadata": {},
   "outputs": [],
   "source": []
  },
  {
   "cell_type": "code",
   "execution_count": null,
   "id": "1c0ec186",
   "metadata": {},
   "outputs": [],
   "source": []
  },
  {
   "cell_type": "code",
   "execution_count": null,
   "id": "fc3fb94b",
   "metadata": {},
   "outputs": [],
   "source": []
  },
  {
   "cell_type": "code",
   "execution_count": null,
   "id": "25c40123",
   "metadata": {},
   "outputs": [],
   "source": []
  }
 ],
 "metadata": {
  "kernelspec": {
   "display_name": "Python 3 (ipykernel)",
   "language": "python",
   "name": "python3"
  },
  "language_info": {
   "codemirror_mode": {
    "name": "ipython",
    "version": 3
   },
   "file_extension": ".py",
   "mimetype": "text/x-python",
   "name": "python",
   "nbconvert_exporter": "python",
   "pygments_lexer": "ipython3",
   "version": "3.9.12"
  }
 },
 "nbformat": 4,
 "nbformat_minor": 5
}
