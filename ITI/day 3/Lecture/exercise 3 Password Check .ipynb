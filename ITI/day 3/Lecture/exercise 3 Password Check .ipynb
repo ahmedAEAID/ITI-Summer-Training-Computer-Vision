{
 "cells": [
  {
   "cell_type": "markdown",
   "id": "bef097b0",
   "metadata": {},
   "source": [
    "# | problem statment |\n",
    "### make password strength checker to check if the password has :-\n",
    "* lowercase \n",
    "* upper case \n",
    "* digits\n",
    "* whitespaces\n",
    "* special characters\n",
    "#### make a counter to count each of them like output sample \n",
    "\n",
    "_______\n",
    "## output sample : \n",
    "_______\n",
    "###===== Welcome to Password Strength Checker =====\n",
    "* Your password has:-\n",
    "* 5 lowercase letters\n",
    "* 1 uppercase letters\n",
    "* 0 digits\n",
    "* 0 whitespaces\n",
    "* 2 special characters\n",
    "* Password score: 3/5\n",
    "* Remarks: Your password is okay, but it can be improved a lot\n",
    "\n",
    "* Exiting...\n",
    "\n",
    "## Note: we need to import getpass , search for it and use it in your code\n",
    "# Deadline at 11:59 PM (\"Best of luck :D\")"
   ]
  },
  {
   "cell_type": "code",
   "execution_count": 11,
   "id": "5b87891d",
   "metadata": {},
   "outputs": [
    {
     "name": "stdout",
     "output_type": "stream",
     "text": [
      "········\n",
      "Your password has:- ahme123@MohmA\n",
      "7 lowercase letters\n",
      "2 lowercase letters\n",
      "0  whitespaces\n",
      "3 digits\n",
      "1 special characters\n",
      "Password score 4/5\n",
      "Remarks: Your password is okay, but it can be improved a lot\n",
      "Exiting....\n"
     ]
    }
   ],
   "source": [
    "import getpass\n",
    "\n",
    "password = getpass.getpass()\n",
    "print( 'Your password has:-', (password))\n",
    "lowerCount =0\n",
    "upperCount = 0\n",
    "spaceCount =0\n",
    "digitCount =0\n",
    "specialCount = 0\n",
    "for letter in password :\n",
    "    if letter.islower() :\n",
    "        lowerCount =lowerCount +1\n",
    "    elif letter.isupper():\n",
    "        upperCount =upperCount +1\n",
    "    elif letter == ' ' :\n",
    "        spaceCount =spaceCount +1\n",
    "    elif letter.isdigit():\n",
    "        digitCount = digitCount +1\n",
    "    elif letter in ['\"','@','^','?','+','>','<','_','%','(',')','^','.','!','-','=','*','+',',','/','&','#'] :\n",
    "        specialCount = specialCount +1\n",
    "\n",
    "print(lowerCount , 'lowercase letters')\n",
    "print(upperCount , 'lowercase letters')\n",
    "print(spaceCount , ' whitespaces')\n",
    "print(digitCount , 'digits')\n",
    "print(specialCount , 'special characters')\n",
    "count = 0\n",
    "lis = [lowerCount,upperCount,spaceCount,digitCount,specialCount]\n",
    "for i in lis :\n",
    "    if i >0:\n",
    "        count = count+1\n",
    "print(f'Password score {count}/5',)\n",
    "if count != 5 :\n",
    "    print('Remarks: Your password is okay, but it can be improved a lot')\n",
    "else:\n",
    "    print('Password is Good')\n",
    "print('Exiting....')"
   ]
  },
  {
   "cell_type": "code",
   "execution_count": null,
   "id": "7bd854c3",
   "metadata": {},
   "outputs": [],
   "source": []
  }
 ],
 "metadata": {
  "kernelspec": {
   "display_name": "Python 3 (ipykernel)",
   "language": "python",
   "name": "python3"
  },
  "language_info": {
   "codemirror_mode": {
    "name": "ipython",
    "version": 3
   },
   "file_extension": ".py",
   "mimetype": "text/x-python",
   "name": "python",
   "nbconvert_exporter": "python",
   "pygments_lexer": "ipython3",
   "version": "3.9.12"
  }
 },
 "nbformat": 4,
 "nbformat_minor": 5
}
