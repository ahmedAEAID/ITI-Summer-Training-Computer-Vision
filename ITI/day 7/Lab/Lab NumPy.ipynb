{
 "cells": [
  {
   "cell_type": "markdown",
   "id": "d6004fe6",
   "metadata": {},
   "source": [
    "## Q1- construct 1d numpy array, 2d numpy array,3d numpy array.\n"
   ]
  },
  {
   "cell_type": "code",
   "execution_count": 22,
   "id": "e294645e",
   "metadata": {},
   "outputs": [
    {
     "name": "stdout",
     "output_type": "stream",
     "text": [
      "(3,) 1\n",
      "(2, 3) 2\n",
      "(2, 2, 2) 3\n"
     ]
    }
   ],
   "source": [
    "import numpy as np\n",
    "\n",
    "\n",
    "array_1d = np.array([1,2,3])\n",
    "array_2d = np.array([[1,2,3],[2,5,8]])\n",
    "array_3d = np.array([[[11,41],[12,0]],[[11,41],[12,0]]])\n",
    "\n",
    "print('shape = ',array_1d.shape,'num of dimentions = ',array_1d.ndim)\n",
    "print('shape = ',array_2d.shape,'num of dimentions = ',array_2d.ndim)\n",
    "print('shape = ',array_3d.shape,'num of dimentions = ',array_3d.ndim)\n"
   ]
  },
  {
   "cell_type": "markdown",
   "id": "43716dcd",
   "metadata": {},
   "source": [
    "## Q2- Write a NumPy program to test whether any of the elements of a given array is non-zero. Hint use any()\n"
   ]
  },
  {
   "cell_type": "code",
   "execution_count": 2,
   "id": "50b024d8",
   "metadata": {},
   "outputs": [
    {
     "name": "stdout",
     "output_type": "stream",
     "text": [
      "True\n",
      "False\n"
     ]
    }
   ],
   "source": [
    "arr= np.array([1,2,3])\n",
    "zero_array = np.zeros(5)\n",
    "\n",
    "print(np.any(arr))\n",
    "print(np.any(zero_array))"
   ]
  },
  {
   "cell_type": "markdown",
   "id": "79310934",
   "metadata": {},
   "source": [
    "### Q3- Write a NumPy program to create an array of 10 zeros, 10 ones, 10 fives.\n"
   ]
  },
  {
   "cell_type": "code",
   "execution_count": 5,
   "id": "e9ce4b34",
   "metadata": {},
   "outputs": [
    {
     "name": "stdout",
     "output_type": "stream",
     "text": [
      "[0. 0. 0. 0. 0. 0. 0. 0. 0. 0.]\n",
      "[1. 1. 1. 1. 1. 1. 1. 1. 1. 1.]\n",
      "[5 5 5 5 5 5 5 5 5 5]\n"
     ]
    }
   ],
   "source": [
    "zero_array = np.zeros(10)\n",
    "one_array = np.ones(10)\n",
    "five_array = np.full(10,5)\n",
    "\n",
    "print(zero_array)\n",
    "print(one_array)\n",
    "print(five_array)"
   ]
  },
  {
   "cell_type": "markdown",
   "id": "465d0939",
   "metadata": {},
   "source": [
    "### Q4- Write a NumPy program to create an array of 10 zeros 3d\n"
   ]
  },
  {
   "cell_type": "code",
   "execution_count": 8,
   "id": "7271a25a",
   "metadata": {},
   "outputs": [
    {
     "name": "stdout",
     "output_type": "stream",
     "text": [
      "[[[0. 0. 0. 0. 0.]]\n",
      "\n",
      " [[0. 0. 0. 0. 0.]]]\n",
      "==================================================\n",
      "[[[0. 0. 0. 0. 0.]]\n",
      "\n",
      " [[0. 0. 0. 0. 0.]]]\n"
     ]
    }
   ],
   "source": [
    "zero_array = np.zeros((2,1,5))\n",
    "\n",
    "print(zero_array)\n",
    "print('='*50)\n",
    "zero_array2 = np.zeros((10)).reshape(2,1,5)\n",
    "\n",
    "print(zero_array2)"
   ]
  },
  {
   "cell_type": "markdown",
   "id": "05591cce",
   "metadata": {},
   "source": [
    "### Q5- Write a NumPy program to create an array of the integers from 30 to 70.\n"
   ]
  },
  {
   "cell_type": "code",
   "execution_count": 9,
   "id": "199c8f82",
   "metadata": {},
   "outputs": [
    {
     "name": "stdout",
     "output_type": "stream",
     "text": [
      "[30 31 32 33 34 35 36 37 38 39 40 41 42 43 44 45 46 47 48 49 50 51 52 53\n",
      " 54 55 56 57 58 59 60 61 62 63 64 65 66 67 68 69 70]\n"
     ]
    }
   ],
   "source": [
    "arr= np.arange(30,71)\n",
    "print(arr)"
   ]
  },
  {
   "cell_type": "markdown",
   "id": "c72b32f4",
   "metadata": {},
   "source": [
    "### Q6- Write a NumPy program to create a 3x3 identity matrix.\n"
   ]
  },
  {
   "cell_type": "code",
   "execution_count": 16,
   "id": "e5b1b56f",
   "metadata": {},
   "outputs": [
    {
     "name": "stdout",
     "output_type": "stream",
     "text": [
      "[[1. 0. 0.]\n",
      " [0. 1. 0.]\n",
      " [0. 0. 1.]]\n",
      "[[1. 0. 0.]\n",
      " [0. 1. 0.]\n",
      " [0. 0. 1.]]\n"
     ]
    }
   ],
   "source": [
    "identity_matrix= np.eye(3,3)\n",
    "\n",
    "print(identity_matrix)\n",
    "\n",
    "print(np.identity((3)))"
   ]
  },
  {
   "cell_type": "markdown",
   "id": "4eab6c6e",
   "metadata": {},
   "source": [
    "### Q7- Write a NumPy program to generate a random number between 0 and 1.\n"
   ]
  },
  {
   "cell_type": "code",
   "execution_count": 19,
   "id": "3e26fcb5",
   "metadata": {},
   "outputs": [
    {
     "name": "stdout",
     "output_type": "stream",
     "text": [
      "0.33271224970074587\n"
     ]
    }
   ],
   "source": [
    "arr = np.random.rand()\n",
    "print(arr)"
   ]
  },
  {
   "cell_type": "markdown",
   "id": "0f133f40",
   "metadata": {},
   "source": [
    "### Q8- Write a NumPy program to create a 3X4 array using and iterate over it."
   ]
  },
  {
   "cell_type": "code",
   "execution_count": 25,
   "id": "437efd6f",
   "metadata": {},
   "outputs": [
    {
     "name": "stdout",
     "output_type": "stream",
     "text": [
      "Original array:\n",
      "[[ 1  7  2  8]\n",
      " [ 5  3 11 10]\n",
      " [ 2  2  8 17]]\n",
      "Each element of the array is:\n",
      "1 7 2 8 5 3 11 10 2 2 8 17 "
     ]
    }
   ],
   "source": [
    "arr = np.random.randint(1,20,(3,4))\n",
    "\n",
    "print(\"Original array:\")\n",
    "print(arr)\n",
    "print(\"Each element of the array is:\")\n",
    "for x in np.nditer(arr):\n",
    "    print(x,end=\" \")\n"
   ]
  },
  {
   "cell_type": "markdown",
   "id": "97ddbf77",
   "metadata": {},
   "source": [
    "### Q9- Write a NumPy program to create a 10x10 matrix, in which the elements on the borders will be equal to 1, and inside 0"
   ]
  },
  {
   "cell_type": "code",
   "execution_count": 30,
   "id": "48c0737e",
   "metadata": {},
   "outputs": [
    {
     "name": "stdout",
     "output_type": "stream",
     "text": [
      "[[1. 1. 1. 1. 1. 1. 1. 1. 1. 1.]\n",
      " [1. 0. 0. 0. 0. 0. 0. 0. 0. 1.]\n",
      " [1. 0. 0. 0. 0. 0. 0. 0. 0. 1.]\n",
      " [1. 0. 0. 0. 0. 0. 0. 0. 0. 1.]\n",
      " [1. 0. 0. 0. 0. 0. 0. 0. 0. 1.]\n",
      " [1. 0. 0. 0. 0. 0. 0. 0. 0. 1.]\n",
      " [1. 0. 0. 0. 0. 0. 0. 0. 0. 1.]\n",
      " [1. 0. 0. 0. 0. 0. 0. 0. 0. 1.]\n",
      " [1. 0. 0. 0. 0. 0. 0. 0. 0. 1.]\n",
      " [1. 1. 1. 1. 1. 1. 1. 1. 1. 1.]]\n"
     ]
    },
    {
     "data": {
      "text/plain": [
       "(8, 8)"
      ]
     },
     "execution_count": 30,
     "metadata": {},
     "output_type": "execute_result"
    }
   ],
   "source": [
    "arr = np.ones((10,10))\n",
    "arr [1:-1,1:-1] = np.zeros((arr [1:-1,1:-1].shape))\n",
    "print(arr)"
   ]
  },
  {
   "cell_type": "code",
   "execution_count": null,
   "id": "01eac43f",
   "metadata": {},
   "outputs": [],
   "source": []
  }
 ],
 "metadata": {
  "kernelspec": {
   "display_name": "Python 3 (ipykernel)",
   "language": "python",
   "name": "python3"
  },
  "language_info": {
   "codemirror_mode": {
    "name": "ipython",
    "version": 3
   },
   "file_extension": ".py",
   "mimetype": "text/x-python",
   "name": "python",
   "nbconvert_exporter": "python",
   "pygments_lexer": "ipython3",
   "version": "3.9.12"
  }
 },
 "nbformat": 4,
 "nbformat_minor": 5
}
