{
 "cells": [
  {
   "cell_type": "code",
   "execution_count": 11,
   "id": "e114145c",
   "metadata": {},
   "outputs": [],
   "source": [
    "import numpy as np \n",
    "import cv2\n",
    "import matplotlib.pyplot as plt"
   ]
  },
  {
   "cell_type": "code",
   "execution_count": 18,
   "id": "1d4bf7a8",
   "metadata": {},
   "outputs": [],
   "source": [
    "img1 = cv2.imread('nature.jpg')\n",
    "img2 = cv2.imread('nature-image-for-website.jpg')\n",
    "\n",
    "def nothing(x):\n",
    "    pass\n",
    "cv2.namedWindow('filters')\n",
    "cv2.createTrackbar('num of image','filters',0,1,nothing)\n",
    "cv2.createTrackbar('(blur , canny)','filters',0,1,nothing)\n",
    "\n",
    "cv2.imshow('filters',img1)\n",
    "k = ord('i')\n",
    "\n",
    "while True :\n",
    "    numOfImage = cv2.getTrackbarPos('num of image','filters')\n",
    "    typeOfFilter = cv2.getTrackbarPos('(blur , canny)','filters')\n",
    "    image = img2\n",
    "    \n",
    "    if numOfImage == 0:\n",
    "        image= img1\n",
    "    if typeOfFilter == 0:\n",
    "        filter_img = cv2.blur(image,(5,5))\n",
    "    else:\n",
    "        filter_img = cv2.Canny(image,100,200)\n",
    "    \n",
    "    if k == ord('i'):\n",
    "        cv2.imshow('filters',filter_img)    \n",
    "    k = cv2.waitKey(1)\n",
    "    \n",
    "    \n",
    "    if k == ord('q'):\n",
    "        break\n",
    "    \n",
    "        \n",
    "cv2.destroyAllWindows()\n",
    "    "
   ]
  },
  {
   "cell_type": "code",
   "execution_count": null,
   "id": "16655cda",
   "metadata": {},
   "outputs": [],
   "source": []
  },
  {
   "cell_type": "code",
   "execution_count": null,
   "id": "73d1b0d1",
   "metadata": {},
   "outputs": [],
   "source": []
  }
 ],
 "metadata": {
  "kernelspec": {
   "display_name": "Python 3 (ipykernel)",
   "language": "python",
   "name": "python3"
  },
  "language_info": {
   "codemirror_mode": {
    "name": "ipython",
    "version": 3
   },
   "file_extension": ".py",
   "mimetype": "text/x-python",
   "name": "python",
   "nbconvert_exporter": "python",
   "pygments_lexer": "ipython3",
   "version": "3.9.12"
  }
 },
 "nbformat": 4,
 "nbformat_minor": 5
}
