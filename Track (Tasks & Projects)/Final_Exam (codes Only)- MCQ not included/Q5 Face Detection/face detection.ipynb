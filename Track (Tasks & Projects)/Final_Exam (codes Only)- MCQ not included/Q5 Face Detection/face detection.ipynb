{
 "cells": [
  {
   "cell_type": "code",
   "execution_count": 1,
   "id": "48c057fc",
   "metadata": {},
   "outputs": [],
   "source": [
    "import numpy as np \n",
    "import cv2\n",
    "import matplotlib.pyplot as plt"
   ]
  },
  {
   "cell_type": "code",
   "execution_count": 2,
   "id": "726d87f7",
   "metadata": {},
   "outputs": [],
   "source": [
    "face_classifier = cv2.CascadeClassifier(cv2.data.haarcascades + 'haarcascade_frontalface_default.xml')\n",
    "eye_classifier = cv2.CascadeClassifier(cv2.data.haarcascades +'haarcascade_eye.xml')\n",
    "smile_calssifier = cv2.CascadeClassifier(cv2.data.haarcascades + 'haarcascade_smile.xml')\n"
   ]
  },
  {
   "cell_type": "code",
   "execution_count": 4,
   "id": "d4028651",
   "metadata": {},
   "outputs": [],
   "source": [
    "original_img = cv2.imread('viola.jpg')\n",
    "gray = cv2.imread('viola.jpg',0)\n",
    "faces = face_classifier.detectMultiScale(gray, scaleFactor = 1.013,minNeighbors = 5, minSize = (10,10))\n",
    "cv2.namedWindow('image')\n",
    "# cv2.imshow('image',original_img)\n",
    "k =ord('i')\n",
    "#detect faces\n",
    "while True:\n",
    "    img = original_img.copy()\n",
    "    for face in faces:\n",
    "        x,y,w,h = face\n",
    "        cv2.rectangle(img,(x,y),(x+w,y+h),(0,0,255),2)\n",
    "        cv2.putText(img,'Face',(x+10,y-20),cv2.FONT_HERSHEY_COMPLEX,1,(100,0,200),2)\n",
    "        face_gray=gray[ y:y+h , x:x+w ]\n",
    "        smiles = smile_calssifier.detectMultiScale(face_gray,1.05,2,minSize=(100,100))   \n",
    "        # detect smile from face \n",
    "        for smile in smiles:\n",
    "            x1,y1,w1,h1 = smile\n",
    "            cv2.rectangle(img,(x+x1,y+y1),(x+x1+w1,y+y1+h1),(0,255,0),2)\n",
    "            cv2.putText(img,'smile',(x+x1+10,y+y1+h1+20),cv2.FONT_HERSHEY_COMPLEX,1,(200,255,100),1)\n",
    "\n",
    "\n",
    "        eyes = eye_classifier.detectMultiScale(face_gray,1.05,4,minSize=(50,50)) \n",
    "        for eye in eyes:\n",
    "            x1,y1,w1,h1 = eye\n",
    "            cv2.circle(img, (x+x1+(w1//2) ,y+y1+(h1//2)) ,h1//2,(0,255,255),2 )\n",
    "            cv2.putText(img,'eye',(x+x1+10,y+y1-20),cv2.FONT_HERSHEY_COMPLEX,1,(0,255,255),1)\n",
    "    if k == ord('i'):\n",
    "        cv2.imshow('image',img)\n",
    "    \n",
    "    k = cv2.waitKey(1)\n",
    "    if k == ord('b'):\n",
    "        blur = cv2.blur(original_img,(9,9))\n",
    "        cv2.imshow('image',blur)\n",
    "    \n",
    "    elif k== ord('q'):\n",
    "        break\n",
    "   \n",
    "        \n",
    "cv2.destroyAllWindows()\n",
    "        \n"
   ]
  },
  {
   "cell_type": "code",
   "execution_count": null,
   "id": "5197cf0c",
   "metadata": {},
   "outputs": [],
   "source": []
  },
  {
   "cell_type": "code",
   "execution_count": null,
   "id": "343bc8d0",
   "metadata": {},
   "outputs": [],
   "source": []
  }
 ],
 "metadata": {
  "kernelspec": {
   "display_name": "Python 3 (ipykernel)",
   "language": "python",
   "name": "python3"
  },
  "language_info": {
   "codemirror_mode": {
    "name": "ipython",
    "version": 3
   },
   "file_extension": ".py",
   "mimetype": "text/x-python",
   "name": "python",
   "nbconvert_exporter": "python",
   "pygments_lexer": "ipython3",
   "version": "3.9.12"
  }
 },
 "nbformat": 4,
 "nbformat_minor": 5
}
