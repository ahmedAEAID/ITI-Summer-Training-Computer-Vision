{
 "cells": [
  {
   "cell_type": "code",
   "execution_count": 1,
   "id": "240c537e",
   "metadata": {},
   "outputs": [],
   "source": [
    "import math\n",
    "import numpy as np \n",
    "import cv2\n",
    "import datetime"
   ]
  },
  {
   "cell_type": "code",
   "execution_count": 2,
   "id": "492978b9",
   "metadata": {},
   "outputs": [],
   "source": [
    "def drow_circle_on_circumference (img,center,radius,color,radius_point, num_Circle):\n",
    "    angle = 0\n",
    "    for i in range (num_Circle):\n",
    "        x = int(center[0] + (radius) * math.cos(math.radians(angle)))\n",
    "        y = int(center[1] + (radius) * math.sin(math.radians(angle)))\n",
    "        cv2.circle(img,(x,y),radius_point,color,-1)\n",
    "        angle += 360//num_Circle "
   ]
  },
  {
   "cell_type": "code",
   "execution_count": 3,
   "id": "0c495405",
   "metadata": {},
   "outputs": [],
   "source": [
    "img = np.zeros((800,800,3),np.uint8)\n",
    "center= np.array(img.shape[:-1])//2\n",
    "r = 150\n",
    "th = 2\n",
    "length_hour_hand = r-40\n",
    "length_minute_hand = r-20\n",
    "length_second_hand =r-10\n",
    "angle_size = 360//60\n",
    "font =cv2.FONT_HERSHEY_SIMPLEX\n",
    "color_text =(100,200,255)\n",
    "\n",
    "while True:\n",
    "    \n",
    "    dt = datetime.datetime.now()\n",
    "    angle_second = (angle_size * dt.second)+270\n",
    "    angle_minute = (angle_size * dt.minute)+270\n",
    "    angle_hour = ( 360//12 *((dt.hour + (dt.minute/60))))+270\n",
    "    img [:,:] =0\n",
    "    \n",
    "    \n",
    "    x_sec = int(center[0] + (length_second_hand) * math.cos(math.radians(angle_second)))\n",
    "    y_sec = int(center[1] + (length_second_hand) * math.sin(math.radians(angle_second)))\n",
    "    \n",
    "    x_min = int(center[0] + (length_minute_hand) * math.cos(math.radians(angle_minute)))\n",
    "    y_min = int(center[1] + (length_minute_hand) * math.sin(math.radians(angle_minute)))\n",
    "    \n",
    "    x_hour = int(center[0] + (length_hour_hand) * math.cos(math.radians(angle_hour)))\n",
    "    y_hour = int(center[1] + (length_hour_hand) * math.sin(math.radians(angle_hour)))\n",
    "    \n",
    "    \n",
    "    cv2.line(img,center,(x_sec,y_sec),(200,200,0),1) # second\n",
    "    \n",
    "    cv2.line(img,center,(x_min,y_min),(50,255,150),2) # minute\n",
    "    \n",
    "    cv2.line(img,center,(x_hour,y_hour),(0,150,250),2) # hour\n",
    "\n",
    "    \n",
    "    cv2.circle(img,center,r,(255,0,0),th)\n",
    "    cv2.circle(img,center,5,(100,100,100),-1)\n",
    "    \n",
    "    ## text \n",
    "    cv2.putText(img, f'Date :{dt.strftime(\"%d-%m-%Y\")}',(10,50),font,1,color_text,2)\n",
    "    cv2.putText(img, f'Hour :{dt.strftime(\"%I:%M:%S %p\")}',(10,100),font,1,color_text,2)\n",
    "    \n",
    "    drow_circle_on_circumference(img,center,r-1,(255,255,0),4,12)\n",
    "    drow_circle_on_circumference(img,center,r-1,(150,150,150),2,60)\n",
    "    \n",
    "    cv2.imshow('image',img[:,:,::-1])\n",
    "    k = cv2.waitKey(1000)\n",
    "    if k == ord('q'):\n",
    "        break\n",
    "cv2.destroyAllWindows()\n",
    "\n",
    "\n",
    "        \n",
    "        \n",
    "    "
   ]
  },
  {
   "cell_type": "code",
   "execution_count": null,
   "id": "21f19624",
   "metadata": {},
   "outputs": [],
   "source": []
  },
  {
   "cell_type": "code",
   "execution_count": null,
   "id": "24d62be8",
   "metadata": {},
   "outputs": [],
   "source": []
  }
 ],
 "metadata": {
  "kernelspec": {
   "display_name": "Python 3 (ipykernel)",
   "language": "python",
   "name": "python3"
  },
  "language_info": {
   "codemirror_mode": {
    "name": "ipython",
    "version": 3
   },
   "file_extension": ".py",
   "mimetype": "text/x-python",
   "name": "python",
   "nbconvert_exporter": "python",
   "pygments_lexer": "ipython3",
   "version": "3.9.12"
  }
 },
 "nbformat": 4,
 "nbformat_minor": 5
}
