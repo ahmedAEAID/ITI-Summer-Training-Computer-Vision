{
 "cells": [
  {
   "cell_type": "code",
   "execution_count": 1,
   "id": "2487e319",
   "metadata": {},
   "outputs": [],
   "source": [
    "import numpy as np \n",
    "import matplotlib.pyplot as plt\n",
    "import cv2"
   ]
  },
  {
   "cell_type": "code",
   "execution_count": 2,
   "id": "dfcffb66",
   "metadata": {},
   "outputs": [],
   "source": [
    "img = np.zeros((500,500,3),np.uint8)\n",
    "\n",
    "\n",
    "def nothing(x):\n",
    "    pass\n",
    "\n",
    "cv2.namedWindow('image')\n",
    "cv2.createTrackbar('x','image',0,img.shape[0],nothing)\n",
    "cv2.createTrackbar('y','image',0,img.shape[1],nothing)\n",
    "cv2.createTrackbar('r','image',0,250,nothing)\n",
    "cv2.createTrackbar('th','image',0,20,nothing)\n",
    "img = np.zeros((500,500,3),np.uint8)\n",
    "while 1:\n",
    "    img [:,:] =0\n",
    "    x = cv2.getTrackbarPos('x','image')\n",
    "    y = cv2.getTrackbarPos('y','image')\n",
    "    r = cv2.getTrackbarPos('r','image')\n",
    "    th = cv2.getTrackbarPos('th','image')\n",
    "    cv2.circle(img,(x,y),r,(255,0,0),th)\n",
    "    cv2.imshow('image',img[:,:,::-1])\n",
    "    k = cv2.waitKey(1)\n",
    "    if k == ord('q'):\n",
    "        break\n",
    "cv2.destroyAllWindows()"
   ]
  },
  {
   "cell_type": "code",
   "execution_count": null,
   "id": "10dcdc46",
   "metadata": {},
   "outputs": [],
   "source": []
  }
 ],
 "metadata": {
  "kernelspec": {
   "display_name": "Python 3 (ipykernel)",
   "language": "python",
   "name": "python3"
  },
  "language_info": {
   "codemirror_mode": {
    "name": "ipython",
    "version": 3
   },
   "file_extension": ".py",
   "mimetype": "text/x-python",
   "name": "python",
   "nbconvert_exporter": "python",
   "pygments_lexer": "ipython3",
   "version": "3.9.12"
  }
 },
 "nbformat": 4,
 "nbformat_minor": 5
}
